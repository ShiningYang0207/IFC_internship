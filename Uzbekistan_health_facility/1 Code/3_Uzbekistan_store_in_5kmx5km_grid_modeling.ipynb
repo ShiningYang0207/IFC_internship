version https://git-lfs.github.com/spec/v1
oid sha256:7a1ffe6e62f82e6680d8e85b8ea8390a454d7ca2734964b2e0d8c8298b4cfadb
size 855709
