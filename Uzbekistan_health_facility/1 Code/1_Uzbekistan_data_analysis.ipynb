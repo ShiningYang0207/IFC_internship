version https://git-lfs.github.com/spec/v1
oid sha256:75daa0e49ccf62e1f427e2322c6ef2111399488b6be5e5fface648b2853f79c5
size 94387
