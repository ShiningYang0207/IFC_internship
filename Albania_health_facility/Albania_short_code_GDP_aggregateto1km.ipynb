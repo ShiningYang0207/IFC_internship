version https://git-lfs.github.com/spec/v1
oid sha256:e96d0592814573b2871670b98c5f49f032d691804743d5bf3d8848ab1684842f
size 225208
