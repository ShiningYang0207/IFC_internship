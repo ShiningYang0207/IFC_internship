version https://git-lfs.github.com/spec/v1
oid sha256:a3d5418d767287041162dd48856aa1a6b1fa60499bfae20cef5b02f64bab85e7
size 116208
