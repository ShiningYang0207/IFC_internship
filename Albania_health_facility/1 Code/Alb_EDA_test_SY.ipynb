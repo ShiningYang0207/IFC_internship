version https://git-lfs.github.com/spec/v1
oid sha256:4b97361f1cb5961eceae2d021b6d23b990fe573a52dbf6a3a4a03966457a8bf3
size 10579
